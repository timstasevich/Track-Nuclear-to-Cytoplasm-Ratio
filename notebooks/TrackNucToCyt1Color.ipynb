{
 "cells": [
  {
   "cell_type": "markdown",
   "metadata": {},
   "source": [
    "## Initiation"
   ]
  },
  {
   "cell_type": "code",
   "execution_count": 2,
   "metadata": {},
   "outputs": [],
   "source": [
    "# To manipulate arrays\n",
    "import numpy as np \n",
    "\n",
    "# To handle track DataFrames\n",
    "import pandas as pd\n",
    "\n",
    "# To import images\n",
    "from skimage import io \n",
    "from skimage.io import imread\n",
    "from skimage.morphology import dilation, disk\n",
    "from scipy.ndimage import binary_fill_holes\n",
    "\n",
    "# Image processing and filters\n",
    "from skimage import data\n",
    "from skimage.filters import threshold_otsu\n",
    "from skimage.segmentation import clear_border\n",
    "from skimage.measure import label, regionprops\n",
    "from skimage.morphology import closing, square\n",
    "from skimage.color import label2rgb\n",
    "\n",
    "# To make plots\n",
    "import matplotlib as mpl \n",
    "import matplotlib.pyplot as plt \n",
    "import matplotlib.patches as mpatches\n",
    "import seaborn as sns; sns.set()  \n",
    "\n",
    "# To work inline; change to %matplotlib notebook for interactive plotting\n",
    "%matplotlib inline \n",
    "\n",
    "# Napari \n",
    "%gui qt5 \n",
    "from skimage import io, filters, data\n",
    "import napari\n",
    "\n",
    "# For directories \n",
    "import os\n",
    "from pathlib import Path, PureWindowsPath # for working with windows paths"
   ]
  },
  {
   "cell_type": "markdown",
   "metadata": {},
   "source": [
    "# Functions"
   ]
  },
  {
   "cell_type": "code",
   "execution_count": 3,
   "metadata": {},
   "outputs": [],
   "source": [
    "def detect_files(dir, filetype, string, not_in_string=None, search_subdirs=False):\n",
    "    file_list = [] # list to store all matching files\n",
    "    \n",
    "    # iterate over all files and subdirectories in the given directory\n",
    "    for item in os.scandir(dir):\n",
    "        if item.is_file() and item.name.endswith(filetype) and string in item.name:\n",
    "            if not_in_string is None or not_in_string not in item.name:\n",
    "                file_list.append(item.path) # add to the list of matching files\n",
    "        elif item.is_dir() and search_subdirs:\n",
    "            # if search_subdirs flag is True and the item is a directory, search in it\n",
    "            file_list.extend(detect_files(item.path, filetype, string, not_in_string, search_subdirs))\n",
    "    \n",
    "    return file_list"
   ]
  },
  {
   "cell_type": "code",
   "execution_count": 4,
   "metadata": {},
   "outputs": [
    {
     "data": {
      "text/plain": [
       "(10, 1, 13, 12, 1, 11)"
      ]
     },
     "execution_count": 4,
     "metadata": {},
     "output_type": "execute_result"
    }
   ],
   "source": [
    "def my_transpose_list(ar, input_list):\n",
    "    my_length = len(input_list)  # Should always be 6 = ['fov','f','z','y','x','ch']\n",
    "    my_none_count = input_list.count('None')  # Get number of 'None' elements in current image\n",
    "    my_expand_dim_list = tuple(-(np.arange(my_none_count)+1))\n",
    "    my_count = len(input_list) - my_none_count\n",
    "    output_list = []\n",
    "    counter = my_count\n",
    "    if my_count > 0: \n",
    "        for i in np.arange(my_length):\n",
    "            if input_list[i] == 'None':\n",
    "                output_list.append(counter)\n",
    "                counter = counter + 1\n",
    "            else:\n",
    "                output_list.append(input_list[i])\n",
    "    output_ar = np.expand_dims(ar,my_expand_dim_list)\n",
    "    return np.transpose(output_ar, output_list)\n",
    "input_list = [0,'None',3,2,'None',1]\n",
    "my_croparray = my_transpose_list(np.zeros([10,11,12,13]),input_list)\n",
    "my_croparray.shape"
   ]
  },
  {
   "cell_type": "code",
   "execution_count": 5,
   "metadata": {},
   "outputs": [],
   "source": [
    "# Functions for finding nuclei and creating rings around it \n",
    "def create_ring(binary_image, width):\n",
    "    filled_image = dilation(binary_fill_holes(binary_image), footprint=disk(2))\n",
    "    dilated_image = dilation(filled_image, footprint=disk(width+2))\n",
    "    ring_image = dilated_image & ~filled_image\n",
    "    return ring_image\n",
    "\n",
    "def apply_threshold(image, threshold_factor):\n",
    "    thresh = threshold_otsu(image)\n",
    "    bw = closing(image > thresh * threshold_factor, square(3))\n",
    "    return bw\n",
    "\n",
    "def remove_border_artifacts(binary_image):\n",
    "    return clear_border(binary_image)\n",
    "\n",
    "def create_labeled_image(binary_image):\n",
    "    return label(binary_image)\n",
    "\n",
    "def filter_regions_by_area(label_image, min_area):\n",
    "    filtered_label_image = np.zeros_like(label_image)\n",
    "    for region in regionprops(label_image):\n",
    "        if region.area >= min_area:\n",
    "            filtered_label_image[label_image == region.label] = region.label\n",
    "    return filtered_label_image\n",
    "\n",
    "def create_label_overlay(image, label_image):\n",
    "    return label2rgb(label_image, image=image, bg_label=0)\n",
    "\n",
    "def create_ring_label_image(label_image, ring_width):\n",
    "    ring_label_image = np.zeros_like(label_image)\n",
    "    for label_value in np.unique(label_image):\n",
    "        if label_value == 0:  # Skip the background label\n",
    "            continue\n",
    "        binary_mask = (label_image == label_value)\n",
    "        ring_image = create_ring(binary_mask, width=ring_width)\n",
    "        ring_label_image[ring_image] = label_value\n",
    "    return ring_label_image  \n",
    "\n",
    "def display_image(image, figsize=(10, 6)):\n",
    "    fig, ax = plt.subplots(figsize=figsize)\n",
    "    ax.imshow(image)\n",
    "    ax.set_axis_off()\n",
    "    plt.tight_layout()\n",
    "    plt.show()\n",
    "\n",
    "def average_intensity_and_center_of_mass(label_image, original_image):\n",
    "    region_info = {}\n",
    "\n",
    "    for region in regionprops(label_image):\n",
    "        label_value = region.label\n",
    "        mask = (label_image == label_value)\n",
    "        intensity_values = original_image[mask]\n",
    "        mean_intensity = np.mean(intensity_values)\n",
    "\n",
    "        # Calculate center of mass for the region\n",
    "        center_of_mass = region.centroid\n",
    "\n",
    "        region_info[label_value] = {\n",
    "            'average_intensity': mean_intensity,\n",
    "            'center_of_mass': center_of_mass\n",
    "        }\n",
    "\n",
    "    return region_info"
   ]
  },
  {
   "cell_type": "code",
   "execution_count": 6,
   "metadata": {},
   "outputs": [],
   "source": [
    "def process_frames(img_6D, threshold_factor, min_area, ring_width, output_images=False):\n",
    "    num_frames = img_6D.shape[1]\n",
    "    all_regions_data = []\n",
    "    label_arrays = []\n",
    "    ring_arrays = []\n",
    "\n",
    "    for frame in range(num_frames):\n",
    "        image = img_6D[0, frame, 0, :, :, 0]\n",
    "\n",
    "        bw = apply_threshold(image, threshold_factor)\n",
    "        cleared = remove_border_artifacts(bw)\n",
    "        label_image = create_labeled_image(cleared)\n",
    "        filtered_label_image = filter_regions_by_area(label_image, min_area)\n",
    "        image_label_overlay = create_label_overlay(image, filtered_label_image)\n",
    "\n",
    "        ring_label_image = create_ring_label_image(filtered_label_image, ring_width)\n",
    "        image_label_overlay_ring = create_label_overlay(image, ring_label_image)\n",
    "\n",
    "        # if output_images:\n",
    "        #     display_image(image_label_overlay)\n",
    "        #     display_image(image_label_overlay_ring)\n",
    "\n",
    "        region_data = average_intensity_and_center_of_mass(filtered_label_image, image)\n",
    "        region_data_ring = average_intensity_and_center_of_mass(ring_label_image, image)\n",
    "\n",
    "        for label_value, data in region_data.items():\n",
    "            all_regions_data.append({\n",
    "                'frame': frame,\n",
    "                'label': label_value,\n",
    "                'average_intensity': data['average_intensity'],\n",
    "                'center_of_mass_x': data['center_of_mass'][0],\n",
    "                'center_of_mass_y': data['center_of_mass'][1],\n",
    "                'ring': False\n",
    "            })\n",
    "\n",
    "        for label_value, data in region_data_ring.items():\n",
    "            all_regions_data.append({\n",
    "                'frame': frame,\n",
    "                'label': label_value,\n",
    "                'average_intensity': data['average_intensity'],\n",
    "                'center_of_mass_x': data['center_of_mass'][0],\n",
    "                'center_of_mass_y': data['center_of_mass'][1],\n",
    "                'ring': True\n",
    "            })\n",
    "\n",
    "        label_arrays.append(filtered_label_image)\n",
    "        ring_arrays.append(ring_label_image)\n",
    "\n",
    "    df = pd.DataFrame(all_regions_data)\n",
    "    return df, np.stack(label_arrays), np.stack(ring_arrays)"
   ]
  },
  {
   "cell_type": "code",
   "execution_count": 7,
   "metadata": {},
   "outputs": [],
   "source": [
    "def display_with_napari(img_6D, label_arrays, ring_arrays):\n",
    "    viewer = napari.Viewer()\n",
    "\n",
    "    # Stack original images into a 3D array (frames, height, width)\n",
    "    original_images = img_6D[0, :, 0, :, :, 0]\n",
    "\n",
    "    # Add the original images to the Napari viewer\n",
    "    viewer.add_image(original_images, name='Original Images', scale=(1, 1, 1))\n",
    "\n",
    "    # Add the label arrays as a label layer\n",
    "    viewer.add_labels(label_arrays, name='Label Arrays', scale=(1, 1, 1))\n",
    "\n",
    "    # Add the ring arrays as a separate label layer\n",
    "    viewer.add_labels(ring_arrays, name='Ring Arrays', scale=(1, 1, 1))\n",
    "\n",
    "    # Start the Napari GUI event loop\n",
    "    napari.run()\n"
   ]
  },
  {
   "cell_type": "code",
   "execution_count": 8,
   "metadata": {},
   "outputs": [],
   "source": [
    "def remove_rows_if_less_than(df, column, N):\n",
    "    \"\"\"\n",
    "    Remove rows from the DataFrame where the number of occurrences \n",
    "    of the value in the specified column is less than N.\n",
    "\n",
    "    Parameters:\n",
    "    - df: pandas DataFrame\n",
    "    - column: the column to check the value occurrence\n",
    "    - N: threshold number of occurrences\n",
    "\n",
    "    Returns:\n",
    "    - pandas DataFrame after removal of rows\n",
    "    \"\"\"\n",
    "    value_counts = df[column].value_counts()\n",
    "    to_remove = value_counts[value_counts < N].index\n",
    "    df_filtered = df[~df[column].isin(to_remove)]\n",
    "    return df_filtered\n",
    "\n",
    "# Example usage\n",
    "# df = pd.read_csv('path_to_your_file.csv')  # Load your DataFrame\n",
    "# result_df = remove_rows_if_less_than(df, 'your_column_name', N)"
   ]
  },
  {
   "attachments": {},
   "cell_type": "markdown",
   "metadata": {},
   "source": [
    "# Read in files and process"
   ]
  },
  {
   "cell_type": "code",
   "execution_count": 7,
   "metadata": {},
   "outputs": [
    {
     "data": {
      "text/plain": [
       "(5,\n",
       " ['C:\\\\Users\\\\tim_s\\\\OneDrive - Colostate\\\\Stasevich Lab\\\\TokyoTech2022\\\\MintbodyRescueDesigns\\\\H3K27ac-MPNN\\\\Screening-MPNN-Designs\\\\9E2H10mint_design13_TSA_dt5min_dragonfly\\\\9E2H10d13_2023-04-25_12.32.37_Field_1\\\\9E2H10d13_2023-04-25_12.32.37_F0.tif',\n",
       "  'C:\\\\Users\\\\tim_s\\\\OneDrive - Colostate\\\\Stasevich Lab\\\\TokyoTech2022\\\\MintbodyRescueDesigns\\\\H3K27ac-MPNN\\\\Screening-MPNN-Designs\\\\9E2H10mint_design13_TSA_dt5min_dragonfly\\\\9E2H10d13_2023-04-25_12.32.37_Field_2\\\\9E2H10d13_2023-04-25_12.32.37_F1.tif',\n",
       "  'C:\\\\Users\\\\tim_s\\\\OneDrive - Colostate\\\\Stasevich Lab\\\\TokyoTech2022\\\\MintbodyRescueDesigns\\\\H3K27ac-MPNN\\\\Screening-MPNN-Designs\\\\9E2H10mint_design13_TSA_dt5min_dragonfly\\\\9E2H10d13_2023-04-25_12.32.37_Field_3\\\\9E2H10d13_2023-04-25_12.32.37_F2.tif',\n",
       "  'C:\\\\Users\\\\tim_s\\\\OneDrive - Colostate\\\\Stasevich Lab\\\\TokyoTech2022\\\\MintbodyRescueDesigns\\\\H3K27ac-MPNN\\\\Screening-MPNN-Designs\\\\9E2H10mint_design13_TSA_dt5min_dragonfly\\\\9E2H10d13_2023-04-25_12.32.37_Field_4\\\\9E2H10d13_2023-04-25_12.32.37_F3.tif',\n",
       "  'C:\\\\Users\\\\tim_s\\\\OneDrive - Colostate\\\\Stasevich Lab\\\\TokyoTech2022\\\\MintbodyRescueDesigns\\\\H3K27ac-MPNN\\\\Screening-MPNN-Designs\\\\9E2H10mint_design13_TSA_dt5min_dragonfly\\\\9E2H10d13_2023-04-25_12.32.37_Field_5\\\\9E2H10d13_2023-04-25_12.32.37_F4.tif'])"
      ]
     },
     "execution_count": 7,
     "metadata": {},
     "output_type": "execute_result"
    }
   ],
   "source": [
    "# Step 1: open all tif files you want to analyze (use a common super directory and all files in subdirectories will be found)\n",
    "my_vid = detect_files(r'C:\\Users\\tim_s\\OneDrive - Colostate\\Stasevich Lab\\TokyoTech2022\\MintbodyRescueDesigns\\H3K27ac-MPNN\\Screening-MPNN-Designs\\9E2H10mint_design13_TSA_dt5min_dragonfly', '.tif', '9E2H10',not_in_string='_t', search_subdirs=True)\n",
    "len(my_vid), my_vid"
   ]
  },
  {
   "cell_type": "code",
   "execution_count": 17,
   "metadata": {},
   "outputs": [
    {
     "data": {
      "text/plain": [
       "(24, 1024, 1024)"
      ]
     },
     "execution_count": 17,
     "metadata": {},
     "output_type": "execute_result"
    }
   ],
   "source": [
    "# Step 2: Read in image\n",
    "my_n = 1\n",
    "img_4D =  imread(os.path.join(my_vid[my_n]))\n",
    "img_4D.shape"
   ]
  },
  {
   "cell_type": "code",
   "execution_count": 18,
   "metadata": {},
   "outputs": [
    {
     "data": {
      "text/plain": [
       "((1, 24, 1, 1024, 1024, 1), (24, 1024, 1024))"
      ]
     },
     "execution_count": 18,
     "metadata": {},
     "output_type": "execute_result"
    }
   ],
   "source": [
    "# Step 3: Transpose video into crop_array expected 6D format with shape (fov, f, z, y, x, ch)\n",
    "img_6D = my_transpose_list(img_4D.data,['None',0,'None',1,2,'None']) \n",
    "img_6D.shape, img_4D.shape"
   ]
  },
  {
   "cell_type": "code",
   "execution_count": 19,
   "metadata": {},
   "outputs": [
    {
     "data": {
      "text/html": [
       "<div>\n",
       "<style scoped>\n",
       "    .dataframe tbody tr th:only-of-type {\n",
       "        vertical-align: middle;\n",
       "    }\n",
       "\n",
       "    .dataframe tbody tr th {\n",
       "        vertical-align: top;\n",
       "    }\n",
       "\n",
       "    .dataframe thead th {\n",
       "        text-align: right;\n",
       "    }\n",
       "</style>\n",
       "<table border=\"1\" class=\"dataframe\">\n",
       "  <thead>\n",
       "    <tr style=\"text-align: right;\">\n",
       "      <th></th>\n",
       "      <th>frame</th>\n",
       "      <th>label</th>\n",
       "      <th>average_intensity</th>\n",
       "      <th>center_of_mass_x</th>\n",
       "      <th>center_of_mass_y</th>\n",
       "      <th>ring</th>\n",
       "    </tr>\n",
       "  </thead>\n",
       "  <tbody>\n",
       "    <tr>\n",
       "      <th>0</th>\n",
       "      <td>0</td>\n",
       "      <td>303</td>\n",
       "      <td>1570.890915</td>\n",
       "      <td>379.764287</td>\n",
       "      <td>726.425708</td>\n",
       "      <td>False</td>\n",
       "    </tr>\n",
       "    <tr>\n",
       "      <th>1</th>\n",
       "      <td>0</td>\n",
       "      <td>919</td>\n",
       "      <td>1590.741506</td>\n",
       "      <td>607.922952</td>\n",
       "      <td>464.410122</td>\n",
       "      <td>False</td>\n",
       "    </tr>\n",
       "    <tr>\n",
       "      <th>2</th>\n",
       "      <td>0</td>\n",
       "      <td>303</td>\n",
       "      <td>943.189669</td>\n",
       "      <td>384.172315</td>\n",
       "      <td>721.110453</td>\n",
       "      <td>True</td>\n",
       "    </tr>\n",
       "    <tr>\n",
       "      <th>3</th>\n",
       "      <td>0</td>\n",
       "      <td>919</td>\n",
       "      <td>993.996541</td>\n",
       "      <td>611.592508</td>\n",
       "      <td>482.950781</td>\n",
       "      <td>True</td>\n",
       "    </tr>\n",
       "    <tr>\n",
       "      <th>4</th>\n",
       "      <td>1</td>\n",
       "      <td>217</td>\n",
       "      <td>1629.848692</td>\n",
       "      <td>380.163204</td>\n",
       "      <td>734.262702</td>\n",
       "      <td>False</td>\n",
       "    </tr>\n",
       "  </tbody>\n",
       "</table>\n",
       "</div>"
      ],
      "text/plain": [
       "   frame  label  average_intensity  center_of_mass_x  center_of_mass_y   ring\n",
       "0      0    303        1570.890915        379.764287        726.425708  False\n",
       "1      0    919        1590.741506        607.922952        464.410122  False\n",
       "2      0    303         943.189669        384.172315        721.110453   True\n",
       "3      0    919         993.996541        611.592508        482.950781   True\n",
       "4      1    217        1629.848692        380.163204        734.262702  False"
      ]
     },
     "execution_count": 19,
     "metadata": {},
     "output_type": "execute_result"
    }
   ],
   "source": [
    "# Step 4: Find nuclei and measure average intensity inside and in surrounding ring:\n",
    "img_6D_trim = img_6D[:,0:]\n",
    "df, label_arrays, ring_arrays = process_frames(img_6D, threshold_factor=1.4, min_area=1500, ring_width=5, output_images=True)\n",
    "df.head()"
   ]
  },
  {
   "cell_type": "code",
   "execution_count": 20,
   "metadata": {},
   "outputs": [],
   "source": [
    "# Step 4.5: check data\n",
    "display_with_napari(img_6D, label_arrays, ring_arrays)"
   ]
  },
  {
   "cell_type": "code",
   "execution_count": 40,
   "metadata": {},
   "outputs": [
    {
     "name": "stdout",
     "output_type": "stream",
     "text": [
      "Frame 23: 6 trajectories present.\n"
     ]
    },
    {
     "data": {
      "text/html": [
       "<div>\n",
       "<style scoped>\n",
       "    .dataframe tbody tr th:only-of-type {\n",
       "        vertical-align: middle;\n",
       "    }\n",
       "\n",
       "    .dataframe tbody tr th {\n",
       "        vertical-align: top;\n",
       "    }\n",
       "\n",
       "    .dataframe thead th {\n",
       "        text-align: right;\n",
       "    }\n",
       "</style>\n",
       "<table border=\"1\" class=\"dataframe\">\n",
       "  <thead>\n",
       "    <tr style=\"text-align: right;\">\n",
       "      <th></th>\n",
       "      <th>frame</th>\n",
       "      <th>label</th>\n",
       "      <th>average_intensity</th>\n",
       "      <th>center_of_mass_x</th>\n",
       "      <th>center_of_mass_y</th>\n",
       "      <th>ring</th>\n",
       "      <th>nuclei</th>\n",
       "    </tr>\n",
       "  </thead>\n",
       "  <tbody>\n",
       "    <tr>\n",
       "      <th>0</th>\n",
       "      <td>0</td>\n",
       "      <td>261</td>\n",
       "      <td>1055.485597</td>\n",
       "      <td>328.009709</td>\n",
       "      <td>609.969264</td>\n",
       "      <td>False</td>\n",
       "      <td>0</td>\n",
       "    </tr>\n",
       "    <tr>\n",
       "      <th>1</th>\n",
       "      <td>0</td>\n",
       "      <td>923</td>\n",
       "      <td>983.568935</td>\n",
       "      <td>469.305178</td>\n",
       "      <td>373.977712</td>\n",
       "      <td>False</td>\n",
       "      <td>1</td>\n",
       "    </tr>\n",
       "    <tr>\n",
       "      <th>2</th>\n",
       "      <td>0</td>\n",
       "      <td>2065</td>\n",
       "      <td>965.674170</td>\n",
       "      <td>571.030488</td>\n",
       "      <td>610.253957</td>\n",
       "      <td>False</td>\n",
       "      <td>2</td>\n",
       "    </tr>\n",
       "    <tr>\n",
       "      <th>3</th>\n",
       "      <td>0</td>\n",
       "      <td>261</td>\n",
       "      <td>712.114921</td>\n",
       "      <td>324.157121</td>\n",
       "      <td>610.661078</td>\n",
       "      <td>True</td>\n",
       "      <td>3</td>\n",
       "    </tr>\n",
       "    <tr>\n",
       "      <th>4</th>\n",
       "      <td>0</td>\n",
       "      <td>923</td>\n",
       "      <td>713.541830</td>\n",
       "      <td>478.186365</td>\n",
       "      <td>374.833927</td>\n",
       "      <td>True</td>\n",
       "      <td>4</td>\n",
       "    </tr>\n",
       "    <tr>\n",
       "      <th>...</th>\n",
       "      <td>...</td>\n",
       "      <td>...</td>\n",
       "      <td>...</td>\n",
       "      <td>...</td>\n",
       "      <td>...</td>\n",
       "      <td>...</td>\n",
       "      <td>...</td>\n",
       "    </tr>\n",
       "    <tr>\n",
       "      <th>139</th>\n",
       "      <td>23</td>\n",
       "      <td>177</td>\n",
       "      <td>1270.613095</td>\n",
       "      <td>497.136415</td>\n",
       "      <td>353.334176</td>\n",
       "      <td>False</td>\n",
       "      <td>1</td>\n",
       "    </tr>\n",
       "    <tr>\n",
       "      <th>140</th>\n",
       "      <td>23</td>\n",
       "      <td>303</td>\n",
       "      <td>1200.876586</td>\n",
       "      <td>505.168397</td>\n",
       "      <td>544.758362</td>\n",
       "      <td>False</td>\n",
       "      <td>6</td>\n",
       "    </tr>\n",
       "    <tr>\n",
       "      <th>141</th>\n",
       "      <td>23</td>\n",
       "      <td>14</td>\n",
       "      <td>692.523461</td>\n",
       "      <td>306.860174</td>\n",
       "      <td>619.111295</td>\n",
       "      <td>True</td>\n",
       "      <td>0</td>\n",
       "    </tr>\n",
       "    <tr>\n",
       "      <th>142</th>\n",
       "      <td>23</td>\n",
       "      <td>177</td>\n",
       "      <td>712.178530</td>\n",
       "      <td>510.360505</td>\n",
       "      <td>346.511098</td>\n",
       "      <td>True</td>\n",
       "      <td>4</td>\n",
       "    </tr>\n",
       "    <tr>\n",
       "      <th>143</th>\n",
       "      <td>23</td>\n",
       "      <td>303</td>\n",
       "      <td>861.461024</td>\n",
       "      <td>505.967335</td>\n",
       "      <td>544.886785</td>\n",
       "      <td>True</td>\n",
       "      <td>7</td>\n",
       "    </tr>\n",
       "  </tbody>\n",
       "</table>\n",
       "<p>144 rows × 7 columns</p>\n",
       "</div>"
      ],
      "text/plain": [
       "     frame  label  average_intensity  center_of_mass_x  center_of_mass_y  \\\n",
       "0        0    261        1055.485597        328.009709        609.969264   \n",
       "1        0    923         983.568935        469.305178        373.977712   \n",
       "2        0   2065         965.674170        571.030488        610.253957   \n",
       "3        0    261         712.114921        324.157121        610.661078   \n",
       "4        0    923         713.541830        478.186365        374.833927   \n",
       "..     ...    ...                ...               ...               ...   \n",
       "139     23    177        1270.613095        497.136415        353.334176   \n",
       "140     23    303        1200.876586        505.168397        544.758362   \n",
       "141     23     14         692.523461        306.860174        619.111295   \n",
       "142     23    177         712.178530        510.360505        346.511098   \n",
       "143     23    303         861.461024        505.967335        544.886785   \n",
       "\n",
       "      ring  nuclei  \n",
       "0    False       0  \n",
       "1    False       1  \n",
       "2    False       2  \n",
       "3     True       3  \n",
       "4     True       4  \n",
       "..     ...     ...  \n",
       "139  False       1  \n",
       "140  False       6  \n",
       "141   True       0  \n",
       "142   True       4  \n",
       "143   True       7  \n",
       "\n",
       "[144 rows x 7 columns]"
      ]
     },
     "execution_count": 40,
     "metadata": {},
     "output_type": "execute_result"
    }
   ],
   "source": [
    "# For TrackPy\n",
    "import trackpy as tp\n",
    "\n",
    "# Step 5: Track nuclei using TrackPy\n",
    "\n",
    "# Modify the DataFrame to match the format expected by trackpy\n",
    "tracking_df = df.rename(columns={'center_of_mass_x': 'y', 'center_of_mass_y': 'x'})\n",
    "\n",
    "# Set the search_range parameter for trackpy.link_df()\n",
    "search_range = 20\n",
    "\n",
    "# Link the regions across frames using trackpy.link_df()\n",
    "linked_df = tp.link_df(tracking_df, search_range, memory=2)\n",
    "\n",
    "# Add a new column to the DataFrame with the particle index assigned by trackpy\n",
    "df['nuclei'] = linked_df['particle']\n",
    "\n",
    "df"
   ]
  },
  {
   "cell_type": "code",
   "execution_count": 167,
   "metadata": {},
   "outputs": [],
   "source": [
    "# Export crop array and pytrack dataframe \n",
    "root, ext = os.path.splitext(my_vid[my_n])\n",
    "df.to_csv(root + '_analyzed.csv', index=False)"
   ]
  },
  {
   "attachments": {},
   "cell_type": "markdown",
   "metadata": {},
   "source": [
    "# Combine data and plot"
   ]
  },
  {
   "attachments": {},
   "cell_type": "markdown",
   "metadata": {},
   "source": [
    "Step 1: open all csv files"
   ]
  },
  {
   "cell_type": "code",
   "execution_count": 9,
   "metadata": {},
   "outputs": [
    {
     "data": {
      "text/plain": [
       "(4,\n",
       " ['C:\\\\Users\\\\tim_s\\\\OneDrive - Colostate\\\\Stasevich Lab\\\\TokyoTech2022\\\\MintbodyRescueDesigns\\\\H3K27ac-MPNN\\\\Screening-MPNN-Designs\\\\9E2H10mint_design13_TSA_dt5min_dragonfly\\\\9E2H10d13_2023-04-25_12.32.37_Field_1\\\\9E2H10d13_2023-04-25_12.32.37_F0_analyzed.csv',\n",
       "  'C:\\\\Users\\\\tim_s\\\\OneDrive - Colostate\\\\Stasevich Lab\\\\TokyoTech2022\\\\MintbodyRescueDesigns\\\\H3K27ac-MPNN\\\\Screening-MPNN-Designs\\\\9E2H10mint_design13_TSA_dt5min_dragonfly\\\\9E2H10d13_2023-04-25_12.32.37_Field_2\\\\9E2H10d13_2023-04-25_12.32.37_F1_analyzed.csv',\n",
       "  'C:\\\\Users\\\\tim_s\\\\OneDrive - Colostate\\\\Stasevich Lab\\\\TokyoTech2022\\\\MintbodyRescueDesigns\\\\H3K27ac-MPNN\\\\Screening-MPNN-Designs\\\\9E2H10mint_design13_TSA_dt5min_dragonfly\\\\9E2H10d13_2023-04-25_12.32.37_Field_4\\\\9E2H10d13_2023-04-25_12.32.37_F3_analyzed.csv',\n",
       "  'C:\\\\Users\\\\tim_s\\\\OneDrive - Colostate\\\\Stasevich Lab\\\\TokyoTech2022\\\\MintbodyRescueDesigns\\\\H3K27ac-MPNN\\\\Screening-MPNN-Designs\\\\9E2H10mint_design13_TSA_dt5min_dragonfly\\\\9E2H10d13_2023-04-25_12.32.37_Field_5\\\\9E2H10d13_2023-04-25_12.32.37_F4_analyzed.csv'])"
      ]
     },
     "execution_count": 9,
     "metadata": {},
     "output_type": "execute_result"
    }
   ],
   "source": [
    "# Step 1: open all tif files you want to analyze (use a common super directory and all files in subdirectories will be found)\n",
    "my_csvs = detect_files(r'C:\\Users\\tim_s\\OneDrive - Colostate\\Stasevich Lab\\TokyoTech2022\\MintbodyRescueDesigns\\H3K27ac-MPNN\\Screening-MPNN-Designs\\9E2H10mint_design13_TSA_dt5min_dragonfly', '.csv', '9E2H10',not_in_string='puro', search_subdirs=True)\n",
    "len(my_csvs), my_csvs"
   ]
  },
  {
   "cell_type": "code",
   "execution_count": 10,
   "metadata": {},
   "outputs": [],
   "source": [
    "# Read each file into dataframe and then combine into a single dataframe\n",
    "i=0\n",
    "all_csvs = []\n",
    "for file in my_csvs:\n",
    "    temp = pd.read_csv(file)\n",
    "    temp = remove_rows_if_less_than(temp,'fov_track_id',15) # Remove nuclei tracks if less than length 5 (or any number)\n",
    "    temp['file'] = i\n",
    "    all_csvs.append(temp)\n",
    "    i=i+1\n",
    "df_rep0 = pd.concat(all_csvs)"
   ]
  },
  {
   "cell_type": "code",
   "execution_count": 11,
   "metadata": {},
   "outputs": [
    {
     "data": {
      "text/html": [
       "<div>\n",
       "<style scoped>\n",
       "    .dataframe tbody tr th:only-of-type {\n",
       "        vertical-align: middle;\n",
       "    }\n",
       "\n",
       "    .dataframe tbody tr th {\n",
       "        vertical-align: top;\n",
       "    }\n",
       "\n",
       "    .dataframe thead th {\n",
       "        text-align: right;\n",
       "    }\n",
       "</style>\n",
       "<table border=\"1\" class=\"dataframe\">\n",
       "  <thead>\n",
       "    <tr style=\"text-align: right;\">\n",
       "      <th></th>\n",
       "      <th>frame</th>\n",
       "      <th>label</th>\n",
       "      <th>region_id</th>\n",
       "      <th>average_intensity</th>\n",
       "      <th>center_of_mass_x</th>\n",
       "      <th>center_of_mass_y</th>\n",
       "      <th>ring_intensity</th>\n",
       "      <th>track_id</th>\n",
       "      <th>fov_track_id</th>\n",
       "      <th>file</th>\n",
       "      <th>nuclei</th>\n",
       "    </tr>\n",
       "  </thead>\n",
       "  <tbody>\n",
       "    <tr>\n",
       "      <th>0</th>\n",
       "      <td>0</td>\n",
       "      <td>187</td>\n",
       "      <td>f0_r187</td>\n",
       "      <td>3157.114169</td>\n",
       "      <td>561.909055</td>\n",
       "      <td>547.558874</td>\n",
       "      <td>1917.765135</td>\n",
       "      <td>0</td>\n",
       "      <td>fov0-track0</td>\n",
       "      <td>0</td>\n",
       "      <td>NaN</td>\n",
       "    </tr>\n",
       "    <tr>\n",
       "      <th>1</th>\n",
       "      <td>1</td>\n",
       "      <td>166</td>\n",
       "      <td>f1_r166</td>\n",
       "      <td>3221.670397</td>\n",
       "      <td>559.603950</td>\n",
       "      <td>546.416728</td>\n",
       "      <td>1935.897701</td>\n",
       "      <td>0</td>\n",
       "      <td>fov0-track0</td>\n",
       "      <td>0</td>\n",
       "      <td>NaN</td>\n",
       "    </tr>\n",
       "    <tr>\n",
       "      <th>2</th>\n",
       "      <td>2</td>\n",
       "      <td>158</td>\n",
       "      <td>f2_r158</td>\n",
       "      <td>3201.258343</td>\n",
       "      <td>560.219505</td>\n",
       "      <td>544.174387</td>\n",
       "      <td>1964.876968</td>\n",
       "      <td>0</td>\n",
       "      <td>fov0-track0</td>\n",
       "      <td>0</td>\n",
       "      <td>NaN</td>\n",
       "    </tr>\n",
       "    <tr>\n",
       "      <th>3</th>\n",
       "      <td>3</td>\n",
       "      <td>104</td>\n",
       "      <td>f3_r104</td>\n",
       "      <td>3229.012439</td>\n",
       "      <td>557.297687</td>\n",
       "      <td>542.040078</td>\n",
       "      <td>1917.894679</td>\n",
       "      <td>0</td>\n",
       "      <td>fov0-track0</td>\n",
       "      <td>0</td>\n",
       "      <td>NaN</td>\n",
       "    </tr>\n",
       "    <tr>\n",
       "      <th>4</th>\n",
       "      <td>4</td>\n",
       "      <td>49</td>\n",
       "      <td>f4_r49</td>\n",
       "      <td>3303.830176</td>\n",
       "      <td>553.614515</td>\n",
       "      <td>541.669941</td>\n",
       "      <td>1874.131707</td>\n",
       "      <td>0</td>\n",
       "      <td>fov0-track0</td>\n",
       "      <td>0</td>\n",
       "      <td>NaN</td>\n",
       "    </tr>\n",
       "  </tbody>\n",
       "</table>\n",
       "</div>"
      ],
      "text/plain": [
       "   frame  label region_id  average_intensity  center_of_mass_x  \\\n",
       "0      0    187   f0_r187        3157.114169        561.909055   \n",
       "1      1    166   f1_r166        3221.670397        559.603950   \n",
       "2      2    158   f2_r158        3201.258343        560.219505   \n",
       "3      3    104   f3_r104        3229.012439        557.297687   \n",
       "4      4     49    f4_r49        3303.830176        553.614515   \n",
       "\n",
       "   center_of_mass_y  ring_intensity  track_id fov_track_id  file  nuclei  \n",
       "0        547.558874     1917.765135         0  fov0-track0     0     NaN  \n",
       "1        546.416728     1935.897701         0  fov0-track0     0     NaN  \n",
       "2        544.174387     1964.876968         0  fov0-track0     0     NaN  \n",
       "3        542.040078     1917.894679         0  fov0-track0     0     NaN  \n",
       "4        541.669941     1874.131707         0  fov0-track0     0     NaN  "
      ]
     },
     "execution_count": 11,
     "metadata": {},
     "output_type": "execute_result"
    }
   ],
   "source": [
    "df_rep0.head()"
   ]
  },
  {
   "cell_type": "code",
   "execution_count": 14,
   "metadata": {},
   "outputs": [],
   "source": [
    "# Measure quantities of interest\n",
    "df_rep0['H3K27ac nuc/cyt (a.u.)'] = df_rep0['average_intensity']/df_rep0['ring_intensity']\n",
    "df_rep0['time (min)'] = df_rep0['frame']*5"
   ]
  },
  {
   "cell_type": "code",
   "execution_count": 21,
   "metadata": {},
   "outputs": [
    {
     "data": {
      "text/plain": [
       "<seaborn.axisgrid.FacetGrid at 0x1a9e683fd30>"
      ]
     },
     "execution_count": 21,
     "metadata": {},
     "output_type": "execute_result"
    },
    {
     "data": {
      "image/png": "[encoded data removed]",
      "text/plain": [
       "<Figure size 500x500 with 1 Axes>"
      ]
     },
     "metadata": {},
     "output_type": "display_data"
    }
   ],
   "source": [
    "sns.relplot(data=df_rep0, x='time (min)', y='H3K27ac nuc/cyt (a.u.)', color='limegreen', kind='line')"
   ]
  },
  {
   "cell_type": "code",
   "execution_count": 26,
   "metadata": {},
   "outputs": [
    {
     "data": {
      "text/plain": [
       "<seaborn.axisgrid.FacetGrid at 0x1667576fca0>"
      ]
     },
     "execution_count": 26,
     "metadata": {},
     "output_type": "execute_result"
    },
    {
     "data": {
      "image/png": "[encoded data removed]",
      "text/plain": [
       "<Figure size 630.5x500 with 1 Axes>"
      ]
     },
     "metadata": {},
     "output_type": "display_data"
    }
   ],
   "source": [
    "g=sns.relplot(data=df_rep0, x='time (min)', y='H3K27ac nuc/cyt (a.u.)', hue='fov_track_id', kind='line')\n",
    "g.set(ylim=(0.8,5.2))"
   ]
  }
 ],
 "metadata": {
  "kernelspec": {
   "display_name": "croparray_env",
   "language": "python",
   "name": "python3"
  },
  "language_info": {
   "codemirror_mode": {
    "name": "ipython",
    "version": 3
   },
   "file_extension": ".py",
   "mimetype": "text/x-python",
   "name": "python",
   "nbconvert_exporter": "python",
   "pygments_lexer": "ipython3",
   "version": "3.8.16"
  },
  "orig_nbformat": 4,
  "vscode": {
   "interpreter": {
    "hash": "e58b356674d1444f8a6a520392e04e36fea0995cd4d5baedbe087cb8f239a49b"
   }
  }
 },
 "nbformat": 4,
 "nbformat_minor": 2
}
